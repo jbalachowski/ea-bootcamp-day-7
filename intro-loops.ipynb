{
 "cells": [
  {
   "cell_type": "markdown",
   "metadata": {},
   "source": [
    "## Comparison and Assignment Operators\n",
    "\n",
    "In previous lessons, you used arithmetic operators such as `+` to add values, but there are many other operators in `Python` that allow you to work with values.   \n",
    "\n",
    "In this lesson, you will work with comparison operators, which allow you to compare values such as checking whether one value is greater than another (e.g. `>`). \n",
    "\n",
    "With comparison operators, you can compare whether a value or variable is:\n",
    "\n",
    "* `>` greater than \n",
    "* `>=` greater than or equal to\n",
    "* `<` less than\n",
    "* `<=` less than or equal to\n",
    "* `==` equal to\n",
    "* `=!` not equal to \n",
    "\n",
    "another value or variable that follows the operator. \n",
    "\n",
    "You will also work with assignment operators (e.g. `+=`), which allow you to set a variable to a new value based on an arithmetic operation or some other calculation. \n",
    "\n",
    "At this point in the course, you have already used assignment operators to add items to `Python` lists, such as when you added a new item for December to a list containing month names (e.g. `months += [\"Dec\"]`).\n",
    "\n",
    "\n",
    "## Looping Structures\n",
    "\n",
    "In `Python`, there are two primary structures for loops: `while` and `for`. You will learn about both in this lesson.\n",
    "\n",
    "### While Loop\n",
    "\n",
    "A `while` loop is used to iteratively execute code until a certain condition is met. That condition could be that the results of the code reach a certain value (e.g. code will iteratively execute as long as the current value of the results is less than 5). \n",
    "\n",
    "For `while` loops, comparison and assignment operators are both very useful. \n",
    "\n",
    "For example, you can write a loop to iteratively add a value of `1` to a variable `x` using `x += 1`, as long as the current value of `x` does not exceed a specified value."
   ]
  },
  {
   "cell_type": "code",
   "execution_count": 6,
   "metadata": {},
   "outputs": [
    {
     "name": "stdout",
     "output_type": "stream",
     "text": [
      "0\n",
      "1\n",
      "2\n",
      "3\n",
      "4\n",
      "5\n",
      "6\n",
      "7\n",
      "8\n",
      "9\n"
     ]
    }
   ],
   "source": [
    "# create a variable `x` with the value `0`\n",
    "x = 0\n",
    "\n",
    "# as long as the value of `x` is less than `10`\n",
    "# iteratively print the value of x and then add `1` to the current value of `x`\n",
    "\n",
    "while x < 10: # condition:\n",
    "    print(x)  # indentation denotes code that is part of loop\n",
    "    x += 1"
   ]
  },
  {
   "cell_type": "markdown",
   "metadata": {},
   "source": [
    "Note the structure of the `while` loop:\n",
    "\n",
    "1. First, you indicate the condition after the word `while` \n",
    "2. Then, you finish the condition with a colon `:`\n",
    "3. Last, you indent the code lines that are included in the `while` loop. **This indentation is important** in `Python` as it indicates that the indented code is to be executed as part of the loop, not after the loop.\n",
    "\n",
    "In this example, a comparison operator is used to compare the value of variable `x` (which begins with value of `0`) to the value `10`, the designated end point.\n",
    "\n",
    "Within the loop, the value of `x` is printed first, before the assignment operator is used to add a value of `1` to `x`. This process repeats each time that the code iterates, until the current value of `x` is no longer less than `10`.\n",
    "\n",
    "At that point, the condition is no longer true (as `x` is now equal to `10`), so the loop ends. \n",
    "\n",
    "Note that to access the value of the variable `x`, you must use the correct variable name in the loop (e.g. `x`).\n",
    "\n",
    "Also, note that the code in the loop is executed in order, meaning that the `print()` function executes first before the value of `1` is added to `x`. You can change that order if you want to see the value of `x`, after the value of `1` has been added. "
   ]
  },
  {
   "cell_type": "code",
   "execution_count": 2,
   "metadata": {},
   "outputs": [
    {
     "name": "stdout",
     "output_type": "stream",
     "text": [
      "1\n",
      "2\n",
      "3\n",
      "4\n",
      "5\n",
      "6\n",
      "7\n",
      "8\n",
      "9\n",
      "10\n"
     ]
    }
   ],
   "source": [
    "# create a variable `x` with the value `0`\n",
    "x = 0\n",
    "\n",
    "# as long as the value of `x` is less than `10`\n",
    "# iteratively print the value of x and then add `1` to the current value of `x`\n",
    "while x < 10:\n",
    "    x += 1\n",
    "    print(x)"
   ]
  },
  {
   "cell_type": "markdown",
   "metadata": {},
   "source": [
    "Compare the previous `while` loop to the code that you would have to write to accomplish the same task without a loop. Which would you rather do?"
   ]
  },
  {
   "cell_type": "code",
   "execution_count": 7,
   "metadata": {},
   "outputs": [
    {
     "name": "stdout",
     "output_type": "stream",
     "text": [
      "1\n",
      "2\n",
      "3\n",
      "4\n",
      "5\n",
      "6\n",
      "7\n",
      "8\n",
      "9\n",
      "10\n"
     ]
    }
   ],
   "source": [
    "x = 0\n",
    "\n",
    "x += 1\n",
    "print(x)\n",
    "\n",
    "x += 1\n",
    "print(x)\n",
    "\n",
    "x += 1\n",
    "print(x)\n",
    "\n",
    "x += 1\n",
    "print(x)\n",
    "\n",
    "x += 1\n",
    "print(x)\n",
    "\n",
    "x += 1\n",
    "print(x)\n",
    "\n",
    "x += 1\n",
    "print(x)\n",
    "\n",
    "x += 1\n",
    "print(x)\n",
    "\n",
    "x += 1\n",
    "print(x)\n",
    "\n",
    "x += 1\n",
    "print(x)"
   ]
  },
  {
   "cell_type": "markdown",
   "metadata": {},
   "source": [
    "In addition to using comparison operators to compare values, you can also specify a range of values to limit the duration of the `while` loop. The range is inclusive of the starting value, but not of the ending value. "
   ]
  },
  {
   "cell_type": "code",
   "execution_count": 4,
   "metadata": {},
   "outputs": [
    {
     "name": "stdout",
     "output_type": "stream",
     "text": [
      "1\n",
      "2\n",
      "3\n",
      "4\n"
     ]
    }
   ],
   "source": [
    "# create a variable `x` with the value `1`\n",
    "x = 1\n",
    "\n",
    "# as long as the value of `x` within a range of `1` to `4`, as the range is not inclusive of `5`\n",
    "# iteratively print the value of x and then add `1` to the current value of `x`\n",
    "while x in range(1,5):\n",
    "    print(x)\n",
    "    x += 1"
   ]
  },
  {
   "cell_type": "markdown",
   "metadata": {},
   "source": [
    "Note that the structure of the `while` loop remains the same, regarding the use of a condition, colon, and indentations of the code that will be iterated. \n",
    "\n",
    "In this example, rather than using an explicit comparison operator, you are stating that the code below can continue to execute as long as the value of `x` remains in a certain range.\n",
    "\n",
    "Specifically, you state that the code can execute as long as the value of `x` exists within a numeric range that begins at `1` to and ends with `5`, but is not inclusive of `5`. This explains why the code does not print the value of `x` when it reaches `5`.  \n",
    "\n",
    "### For Loop\n",
    "\n",
    "Another useful looping structure is a `for` loop, which will iteratively execute code for each value in a group that is provided as an input parameter. This group can be a list of values or filenames, individual characters in a text string, etc.\n",
    "\n",
    "The syntax of a `for` loop is quite similar to `while` loop, regarding the use of a condition, colon, and indentations of the code that will be iterated. \n",
    "\n",
    "The main differences are that the loop begins with `for` rather than `while`, and that the `for` loop is expecting to execute for each item in a list. Therefore, the list should be defined before (or as part of) the `for` loop. "
   ]
  },
  {
   "cell_type": "code",
   "execution_count": 5,
   "metadata": {},
   "outputs": [
    {
     "name": "stdout",
     "output_type": "stream",
     "text": [
      "5\n",
      "10\n",
      "15\n",
      "20\n"
     ]
    }
   ],
   "source": [
    "# create a list of integers `numlist`\n",
    "numlist = [5, 10, 15, 20]\n",
    "\n",
    "# for each item in `numlist`, print the item's value\n",
    "for x in numlist:\n",
    "    print(x)    "
   ]
  },
  {
   "cell_type": "markdown",
   "metadata": {},
   "source": [
    "Note that in this example, `x` is not a variable but rather a placeholder for the current value that the loop is working with in each iteration of the code.  \n",
    "\n",
    "This means that you could use any word or character to indicate the placeholder, with the exception of numeric values. \n",
    "\n",
    "You simply need to reuse that same word or character in the code lines that are being executed, in order to access the value at that placeholder. \n",
    "\n",
    "For example, the placeholder could be called `i`, or even something completely unrelated like `banana`. "
   ]
  },
  {
   "cell_type": "code",
   "execution_count": 6,
   "metadata": {},
   "outputs": [
    {
     "name": "stdout",
     "output_type": "stream",
     "text": [
      "5\n",
      "10\n",
      "15\n",
      "20\n"
     ]
    }
   ],
   "source": [
    "# create a list of integers `numlist`\n",
    "numlist = [5, 10, 15, 20]\n",
    "\n",
    "# for each item in `numlist`, print the item's value\n",
    "for i in numlist:\n",
    "    print(i)    "
   ]
  },
  {
   "cell_type": "code",
   "execution_count": 7,
   "metadata": {},
   "outputs": [
    {
     "name": "stdout",
     "output_type": "stream",
     "text": [
      "5\n",
      "10\n",
      "15\n",
      "20\n"
     ]
    }
   ],
   "source": [
    "# create a list of integers `numlist`\n",
    "numlist = [5, 10, 15, 20]\n",
    "\n",
    "# for each item in `numlist`, print the item's value\n",
    "for banana in numlist:\n",
    "    print(banana)   "
   ]
  },
  {
   "cell_type": "markdown",
   "metadata": {},
   "source": [
    "`numlist` is a variable (in this case, a `Python` list), and you must use its variable name to access the items in the list. \n",
    "\n",
    "However, the list does not have to be numeric, as you may often want to use lists that contain text strings to iterate on directory and file names. For example, you may want to iterate code on a list of specific filenames. "
   ]
  },
  {
   "cell_type": "code",
   "execution_count": 8,
   "metadata": {},
   "outputs": [
    {
     "name": "stdout",
     "output_type": "stream",
     "text": [
      "months.txt\n",
      "avg-monthly-precip.txt\n"
     ]
    }
   ],
   "source": [
    "# create a list of text strings of filenames\n",
    "filelist = [\"months.txt\", \"avg-monthly-precip.txt\"]\n",
    "\n",
    "# for each item in `filelist`, print the item's value\n",
    "for filename in filelist:\n",
    "    print(filename)   "
   ]
  },
  {
   "cell_type": "markdown",
   "metadata": {},
   "source": [
    "Note that `print()` returns the name of the file, but not the values in the file. The function that you use in the loop will determine what output you will receive. "
   ]
  },
  {
   "cell_type": "markdown",
   "metadata": {},
   "source": [
    "## Optional Challenge \n",
    "\n",
    "Test your `Python` skills to:\n",
    "\n",
    "1. Review the code blocks below carefully and determine why you do not receive an output when you execute it. \n",
    "\n",
    "2. Fix the code block so that it runs. \n",
    "\n",
    "```python\n",
    "x = 3\n",
    "\n",
    "while x < 15:\n",
    "    print(i)\n",
    "    x += 1\n",
    "```\n",
    "\n",
    "\n",
    "```python\n",
    "fruit = [\"apples\", \"oranges\", \"cherries\"]\n",
    "\n",
    "for i in fruit:\n",
    "    print(oranges) \n",
    "```\n"
   ]
  },
  {
   "cell_type": "code",
   "execution_count": 8,
   "metadata": {},
   "outputs": [
    {
     "name": "stdout",
     "output_type": "stream",
     "text": [
      "3\n",
      "4\n",
      "5\n",
      "6\n",
      "7\n",
      "8\n",
      "9\n",
      "10\n",
      "11\n",
      "12\n",
      "13\n",
      "14\n"
     ]
    }
   ],
   "source": [
    "x = 3\n",
    "\n",
    "while x < 15:\n",
    "    print(x) #variable incorrect\n",
    "    x += 1"
   ]
  },
  {
   "cell_type": "code",
   "execution_count": 9,
   "metadata": {},
   "outputs": [
    {
     "name": "stdout",
     "output_type": "stream",
     "text": [
      "apples\n",
      "oranges\n",
      "cherries\n"
     ]
    }
   ],
   "source": [
    "fruit = [\"apples\", \"oranges\", \"cherries\"]\n",
    "\n",
    "for i in fruit:\n",
    "    print(i) # placeholder was not correctly specified"
   ]
  }
 ],
 "metadata": {
  "kernelspec": {
   "display_name": "Python 3",
   "language": "python",
   "name": "python3"
  },
  "language_info": {
   "codemirror_mode": {
    "name": "ipython",
    "version": 3
   },
   "file_extension": ".py",
   "mimetype": "text/x-python",
   "name": "python",
   "nbconvert_exporter": "python",
   "pygments_lexer": "ipython3",
   "version": "3.7.3"
  }
 },
 "nbformat": 4,
 "nbformat_minor": 2
}
